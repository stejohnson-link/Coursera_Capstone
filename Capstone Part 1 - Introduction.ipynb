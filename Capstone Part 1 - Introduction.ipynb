{
 "cells": [
  {
   "cell_type": "markdown",
   "metadata": {},
   "source": [
    "## Baltimore, Maryland - Neighborhoods explored by Number of Crimes and Number of Vacant Buildings\n",
    "\n",
    "### Introduction to the Problem:\n",
    "\n",
    "Baltimore, Maryland is a troubled history. Known as \"Charm City\" Baltimore has lost its charm with a shrinking population, high crime rate, and bleak outlook.\n",
    "\n",
    "Baltimore has many problems, but also many amenities. Home of both the Baltimore Orioles and Baltimore Ravens it has two large sporting venues near the Inner Harbor.  The Inner Harbor is a popular tourist venue with many sites such as the National Aquarium in Baltimore and the USS Constellation. \n",
    "\n",
    "The problem explored in this project is the relationship between the number of vacant buildings in the city of Baltimore and the highest crime areas of Baltimore.  Looking at neighborhood data we will view the neighborhoods that have the highest reported number of crimes and the neighborhoods that have highest number of vacant buildings.  We will also explore the relationship between the two variables. \n",
    "\n",
    "Then we will use the Foursquare location data to explore the venues in selected neighborhoods to see what the venue data can tell us about those neighborhoods. "
   ]
  },
  {
   "cell_type": "markdown",
   "metadata": {},
   "source": [
    "### Data Sources\n",
    "\n",
    "The data sources for this project are the open city data from"
   ]
  },
  {
   "cell_type": "markdown",
   "metadata": {},
   "source": [
    "<https://data.baltimorecity.gov/>"
   ]
  },
  {
   "cell_type": "markdown",
   "metadata": {},
   "source": [
    "Specifically the following reports:"
   ]
  },
  {
   "cell_type": "markdown",
   "metadata": {},
   "source": [
    "<https://data.baltimorecity.gov/Public-Safety/BPD-Part-1-Victim-Based-Crime-Data/wsfq-mvij/data>\n",
    "<https://data.baltimorecity.gov/Housing-Development/Vacant-Buildings/qqcv-ihn5/data>\n",
    "<https://data.baltimorecity.gov/Geographic/Neighborhoods/h8i5-gvdz>"
   ]
  },
  {
   "cell_type": "markdown",
   "metadata": {},
   "source": [
    "Foursquare API"
   ]
  },
  {
   "cell_type": "markdown",
   "metadata": {},
   "source": [
    "<https://api.foursquare.com>"
   ]
  },
  {
   "cell_type": "markdown",
   "metadata": {},
   "source": [
    "The focus on comparing neighborhoods we will require that all neighborhood names in our data sources are formatted in the same manner. Furthermore we will need to decide how far back crime data should go in order to count our incidents.  We want to accurately reflect the current feel for a neighborhood."
   ]
  },
  {
   "cell_type": "code",
   "execution_count": null,
   "metadata": {},
   "outputs": [],
   "source": []
  }
 ],
 "metadata": {
  "kernelspec": {
   "display_name": "Python",
   "language": "python",
   "name": "conda-env-python-py"
  },
  "language_info": {
   "codemirror_mode": {
    "name": "ipython",
    "version": 3
   },
   "file_extension": ".py",
   "mimetype": "text/x-python",
   "name": "python",
   "nbconvert_exporter": "python",
   "pygments_lexer": "ipython3",
   "version": "3.6.10"
  }
 },
 "nbformat": 4,
 "nbformat_minor": 4
}
